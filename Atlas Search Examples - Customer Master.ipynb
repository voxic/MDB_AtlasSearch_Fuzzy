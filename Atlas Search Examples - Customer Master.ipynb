{
 "cells": [
  {
   "attachments": {},
   "cell_type": "markdown",
   "id": "78f49223",
   "metadata": {},
   "source": [
    "# MongoDB Atlas Search: Basic Search"
   ]
  },
  {
   "attachments": {},
   "cell_type": "markdown",
   "id": "ac751afa",
   "metadata": {},
   "source": [
    "## Setup"
   ]
  },
  {
   "cell_type": "code",
   "execution_count": null,
   "id": "4f94ad7e",
   "metadata": {},
   "outputs": [],
   "source": [
    "# import our libraries, instantiate our classes\n",
    "\n",
    "import sys\n",
    "\n",
    "from pymongo import MongoClient\n",
    "import pprint\n",
    "\n",
    "client = MongoClient('')['']\n",
    "\n",
    "pp = pprint.PrettyPrinter(indent=1)"
   ]
  },
  {
   "attachments": {},
   "cell_type": "markdown",
   "id": "9526e8cc",
   "metadata": {},
   "source": [
    "### Example profile\n",
    "anneli.al.larsson63885@mendoza-dickson.net   \n",
    "anneli.al.larsson73885@mendoza-dickson.net"
   ]
  },
  {
   "cell_type": "markdown",
   "id": "3f6e0431",
   "metadata": {},
   "source": [
    "## Search index"
   ]
  },
  {
   "cell_type": "markdown",
   "id": "d8e3d058",
   "metadata": {},
   "source": [
    "```json\n",
    "{\n",
    "    \"mappings\": {\n",
    "        \"dynamic\": false,\n",
    "        \"fields\": {\n",
    "            \"contactMethods\": {\n",
    "                \"fields\": {\n",
    "                    \"value\": {\n",
    "                        \"analyzer\": \"regReplace\",\n",
    "                        \"multi\": {\n",
    "                            \"keywordAnalyzer\": {\n",
    "                                \"analyzer\": \"lucene.keyword\",\n",
    "                                \"type\": \"string\"\n",
    "                            }\n",
    "                        },\n",
    "                        \"type\": \"string\"\n",
    "                    }\n",
    "                },\n",
    "                \"type\": \"document\"\n",
    "            }\n",
    "        }\n",
    "    },\n",
    "    \"analyzers\": [\n",
    "        {\n",
    "            \"charFilters\": [],\n",
    "            \"name\": \"regReplace\",\n",
    "            \"tokenFilters\": [\n",
    "                {\n",
    "                    \"type\": \"lowercase\"\n",
    "                },\n",
    "                {\n",
    "                    \"matches\": \"all\",\n",
    "                    \"pattern\": \"[^0-9]?\",\n",
    "                    \"replacement\": \"-\",\n",
    "                    \"type\": \"regex\"\n",
    "                }\n",
    "            ],\n",
    "            \"tokenizer\": {\n",
    "                \"type\": \"keyword\"\n",
    "            }\n",
    "        }\n",
    "    ]\n",
    "}\n",
    "```"
   ]
  },
  {
   "attachments": {},
   "cell_type": "markdown",
   "id": "dde57663",
   "metadata": {},
   "source": [
    "### Fuzzy without numbers"
   ]
  },
  {
   "cell_type": "code",
   "execution_count": null,
   "id": "91a9c40c",
   "metadata": {},
   "outputs": [],
   "source": [
    "emailToSearch = 'ingridkarlsson79050@gordon.com'\n",
    "search = [\n",
    "    {\n",
    "        '$search': {\n",
    "            'index': 'regexNumber', \n",
    "            'compound': {\n",
    "                'must': [\n",
    "                    {\n",
    "                        'text': {\n",
    "                            'query': emailToSearch, \n",
    "                            'path': {\n",
    "                                'value': 'contactMethods.value', \n",
    "                                'multi': 'keywordAnalyzer'\n",
    "                            }, \n",
    "                            'fuzzy': {\n",
    "                                'maxEdits': 1\n",
    "                            }\n",
    "                        }\n",
    "                    }\n",
    "                ], \n",
    "                'should': [\n",
    "                    {\n",
    "                        'text': {\n",
    "                            'query': emailToSearch, \n",
    "                            'path': 'contactMethods.value', \n",
    "                            'score': {\n",
    "                                'boost': {\n",
    "                                    'value': 1.1\n",
    "                                }\n",
    "                            }\n",
    "                        }\n",
    "                    }, {\n",
    "                        'text': {\n",
    "                            'query': emailToSearch, \n",
    "                            'path': {\n",
    "                                'value': 'contactMethods.value', \n",
    "                                'multi': 'keywordAnalyzer'\n",
    "                            }\n",
    "                        }\n",
    "                    }\n",
    "                ]\n",
    "            }, \n",
    "            'highlight': {\n",
    "                'path': 'contactMethods.value'\n",
    "            }\n",
    "        }\n",
    "    }, {\n",
    "        '$limit': 5\n",
    "    }, {\n",
    "        '$project': {\n",
    "            'contactMethods': 1, \n",
    "            'score': 1\n",
    "        }\n",
    "    }, {\n",
    "        '$unwind': {\n",
    "            'path': '$contactMethods'\n",
    "        }\n",
    "    }, {\n",
    "        '$match': {\n",
    "            'contactMethods.type': 'EMAIL'\n",
    "        }\n",
    "    }, {\n",
    "        '$replaceRoot': {\n",
    "            'newRoot': '$contactMethods'\n",
    "        }\n",
    "    }, {\n",
    "        '$addFields': {\n",
    "            'score': {\n",
    "                '$meta': 'searchScore'\n",
    "            }, \n",
    "            'highlights': {\n",
    "                '$meta': 'searchHighlights'\n",
    "            }\n",
    "        }\n",
    "    }, {\n",
    "        '$project': {\n",
    "            'value': 1, \n",
    "            'score': 1, \n",
    "            'highlights': 1\n",
    "        }\n",
    "    }, {\n",
    "        '$sort': {\n",
    "            'score': -1\n",
    "        }\n",
    "    }\n",
    "]\n",
    "\n",
    "result = list(client['profiles'].aggregate(search))\n",
    "pp.pprint(result)"
   ]
  },
  {
   "attachments": {},
   "cell_type": "markdown",
   "id": "f060bf94",
   "metadata": {},
   "source": [
    "### Find similar profiles - Let's fetch an example document"
   ]
  },
  {
   "cell_type": "code",
   "execution_count": 26,
   "id": "b8d2f037",
   "metadata": {},
   "outputs": [
    {
     "name": "stdout",
     "output_type": "stream",
     "text": [
      "[{'contactMethods': [{'type': 'SMS', 'value': '058-45 19 75'},\n",
      "                     {'type': 'EMAIL',\n",
      "                      'value': 'astquicklyridlarsson@andersson.org'}],\n",
      "  'firstName': 'Astrid',\n",
      "  'lastName': 'Larsson',\n",
      "  'partyUId': 'acb53c20-f2b1-49ce-9023-90b86b7bbc55'}]\n"
     ]
    }
   ],
   "source": [
    "# fetch a sample document, in this case, the movie \"The Godfather\"\n",
    "one_document_query = [\n",
    "    {'$match':{\"partyUId\":\"acb53c20-f2b1-49ce-9023-90b86b7bbc55\"}},\n",
    "    {'$project':{\n",
    "        \"partyUId\" : 1,\n",
    "        \"firstName\":1,\n",
    "        \"lastName\":1,\n",
    "        \"contactMethods.type\" : 1,\n",
    "        \"contactMethods.value\" : 1,\n",
    "        \"_id\":0\n",
    "    }},\n",
    "    {\"$limit\":1}\n",
    "]\n",
    "\n",
    "result = list(client['profiles'].aggregate(one_document_query))\n",
    "pp.pprint(result)"
   ]
  },
  {
   "attachments": {},
   "cell_type": "markdown",
   "id": "cd3bf3fa",
   "metadata": {},
   "source": [
    "#### Now, we provide the result above as a reference document to the MoreLikeThis query:"
   ]
  },
  {
   "cell_type": "code",
   "execution_count": 27,
   "id": "07966c55",
   "metadata": {},
   "outputs": [
    {
     "name": "stdout",
     "output_type": "stream",
     "text": [
      "[{'contactMethods': [{'type': 'SMS', 'value': '058-45 19 75'},\n",
      "                     {'type': 'EMAIL',\n",
      "                      'value': 'astquicklyridlarsson@andersson.org'}],\n",
      "  'firstName': 'Astrid',\n",
      "  'lastName': 'Larsson',\n",
      "  'partyUId': 'acb53c20-f2b1-49ce-9023-90b86b7bbc55',\n",
      "  'score': 16.047607421875},\n",
      " {'contactMethods': [{'type': 'SMS', 'value': '058-45 19 75'},\n",
      "                     {'type': 'EMAIL',\n",
      "                      'value': 'astrid.larsson2470@green.com'}],\n",
      "  'firstName': 'Astrid',\n",
      "  'lastName': 'Larsson',\n",
      "  'partyUId': 'acb53c20-f2b1-49ce-9022-90b86b7bbc55',\n",
      "  'score': 12.758387565612793}]\n"
     ]
    }
   ],
   "source": [
    "# Construct \n",
    "more_like_this_query = [\n",
    "    {\n",
    "        '$search': {\n",
    "            'index': 'moreLikeThis', \n",
    "            'moreLikeThis': {\n",
    "                'like': result\n",
    "            }\n",
    "        }\n",
    "    },\n",
    "    {\n",
    "        '$project':{\n",
    "            \"partyUId\" : 1,\n",
    "            \"firstName\":1,\n",
    "            \"lastName\":1,\n",
    "            \"contactMethods.type\" : 1,\n",
    "            \"contactMethods.value\" : 1,\n",
    "            \"_id\":0,\n",
    "            'score': {\n",
    "                '$meta': 'searchScore'\n",
    "            },\n",
    "            \"highlights\": { \"$meta\": \"searchHighlights\" }\n",
    "        }\n",
    "    },\n",
    "    {'$limit':2}\n",
    "]\n",
    "\n",
    "pp.pprint(list(client['profiles'].aggregate(more_like_this_query)))"
   ]
  },
  {
   "cell_type": "code",
   "execution_count": null,
   "id": "fe3a0734",
   "metadata": {},
   "outputs": [],
   "source": []
  }
 ],
 "metadata": {
  "kernelspec": {
   "display_name": "Python 3 (ipykernel)",
   "language": "python",
   "name": "python3"
  },
  "language_info": {
   "codemirror_mode": {
    "name": "ipython",
    "version": 3
   },
   "file_extension": ".py",
   "mimetype": "text/x-python",
   "name": "python",
   "nbconvert_exporter": "python",
   "pygments_lexer": "ipython3",
   "version": "3.9.12"
  },
  "vscode": {
   "interpreter": {
    "hash": "31f2aee4e71d21fbe5cf8b01ff0e069b9275f58929596ceb00d14d90e3e16cd6"
   }
  }
 },
 "nbformat": 4,
 "nbformat_minor": 5
}
